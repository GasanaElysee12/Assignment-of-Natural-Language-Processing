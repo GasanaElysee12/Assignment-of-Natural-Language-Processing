{
 "cells": [
  {
   "cell_type": "markdown",
   "metadata": {},
   "source": [
    "The goal of this lab is to implement a language identifier (LID).\n",
    "\n",
    "Our first model will be based on Naive Bayes."
   ]
  },
  {
   "cell_type": "code",
   "execution_count": 41,
   "metadata": {},
   "outputs": [],
   "source": [
    "import io, sys, math, re\n",
    "from collections import defaultdict"
   ]
  },
  {
   "cell_type": "markdown",
   "metadata": {},
   "source": [
    "The next function is used to load the data. Each line of the data consist of a label (corresponding to a language), followed by some text, written in that language. Here is an example of data:\n",
    "\n",
    "```__label__de Zur Namensdeutung gibt es mehrere Varianten.```\n"
   ]
  },
  {
   "cell_type": "code",
   "execution_count": 42,
   "metadata": {},
   "outputs": [],
   "source": [
    "def load_data(filename):\n",
    "    fin = io.open(filename, 'r', encoding='utf-8')\n",
    "    data = []\n",
    "    for line in fin:\n",
    "        tokens = line.split()\n",
    "        data.append((tokens[0], tokens[1:]))\n",
    "    return data"
   ]
  },
  {
   "cell_type": "markdown",
   "metadata": {},
   "source": [
    "You can now try loading the first dataset `train1.txt` and look what examples look like."
   ]
  },
  {
   "cell_type": "code",
   "execution_count": 43,
   "metadata": {},
   "outputs": [
    {
     "name": "stdout",
     "output_type": "stream",
     "text": [
      "('__label__de', ['Ich', 'würde', 'alles', 'tun,', 'um', 'dich', 'zu', 'beschützen.'])\n"
     ]
    }
   ],
   "source": [
    "data = load_data(\"train1.txt\")\n",
    "print(data[0])"
   ]
  },
  {
   "cell_type": "markdown",
   "metadata": {},
   "source": [
    "Next, we will start implementing the Naive Bayes method. This technique is based on word counts, and we thus need to start by implementing a function to count the words and labels of our training set.\n",
    "\n",
    "`n_examples` is the total number of examples\n",
    "\n",
    "`n_words_per_label` is the total number of words for a given label\n",
    "\n",
    "`label_counts` is the number of times a given label appears in the training data\n",
    "\n",
    "`word_counts` is the number of times a word appears with a given label"
   ]
  },
  {
   "cell_type": "code",
   "execution_count": 44,
   "metadata": {},
   "outputs": [],
   "source": [
    "def count_words(data):\n",
    "    n_examples = 0\n",
    "    n_words_per_label = defaultdict(lambda: 0)\n",
    "    label_counts = defaultdict(lambda: 0)\n",
    "    word_counts = defaultdict(lambda: defaultdict(lambda: 0.0))\n",
    "\n",
    "    for example in data:\n",
    "        label, sentence = example\n",
    "        ## FILL CODE\n",
    "        #updating number of examples\n",
    "        n_examples +=1\n",
    "        #update of labels \n",
    "        label_counts[label]+=1\n",
    "        # Loop in the sentence to find words and labels in it\n",
    "        for word in sentence:\n",
    "            #update number of label per sentence\n",
    "            n_words_per_label[label] +=1\n",
    "            #update number of word per sentence\n",
    "            word_counts[label][word] +=1\n",
    "             \n",
    "        \n",
    "        \n",
    "\n",
    "    return {'label_counts': label_counts, \n",
    "            'word_counts': word_counts, \n",
    "            'n_examples': n_examples, \n",
    "            'n_words_per_label': n_words_per_label}"
   ]
  },
  {
   "cell_type": "code",
   "execution_count": null,
   "metadata": {},
   "outputs": [],
   "source": [
    "\n"
   ]
  },
  {
   "cell_type": "markdown",
   "metadata": {},
   "source": [
    "Next, using the word and label counts from the previous function, we can implement the prediction function.\n",
    "\n",
    "Here, `mu` is a regularization parameter (Laplace smoothing), and `sentence` is the list of words corresponding to the test example."
   ]
  },
  {
   "cell_type": "code",
   "execution_count": 45,
   "metadata": {},
   "outputs": [],
   "source": [
    "def predict(sentence, mu, label_counts, word_counts, n_examples, n_words_per_label):\n",
    "    best_label = None\n",
    "    best_score = float('-inf')\n",
    "\n",
    "    for label in word_counts.keys():\n",
    "        score = 0.0\n",
    "        ## FILE CODE\n",
    "        length_of_vocabulary =len(word_counts[label])\n",
    "        for word in sentence:\n",
    "            # add mu to number of time word appeared in a certain sentence to against the zero prediction always\n",
    "            number_word=word_counts[label][word]+mu\n",
    "            #compute denominator as mu* total count of word in sentence +number of words in label\n",
    "            tot_word_appearence=n_words_per_label[label]+mu*length_of_vocabulary\n",
    "            #update the score\n",
    "            score +=math.log(number_word/tot_word_appearence)\n",
    "            \n",
    "            if score> best_score:\n",
    "                #Update the best score\n",
    "                best_score=score\n",
    "                #update the label based on high score\n",
    "                best_label=label\n",
    "\n",
    "    return best_label"
   ]
  },
  {
   "cell_type": "markdown",
   "metadata": {},
   "source": [
    "The next function will be used to evaluate the Naive Bayes model on a validation set. It computes the accuracy for a particular regularization parameter `mu`."
   ]
  },
  {
   "cell_type": "code",
   "execution_count": 46,
   "metadata": {},
   "outputs": [],
   "source": [
    "def compute_accuracy(valid_data, mu, counts):\n",
    "    accuracy = 0.0\n",
    "    for label, sentence in valid_data:\n",
    "        ## FILL CODE\n",
    "        \n",
    "        #Compute prediction\n",
    "        prediction=predict(sentence, mu, **counts)\n",
    "        # check whether predicted label is the same as true label\n",
    "        if prediction == label:\n",
    "            #Once the condition is true update the accuracy\n",
    "            accuracy +=1.0 \n",
    "            \n",
    "     #express accuracy in percentage by multiplying 100\n",
    "    return accuracy*100.00/float(len(valid_data))"
   ]
  },
  {
   "cell_type": "markdown",
   "metadata": {},
   "source": [
    "Here, I used the file train2.txt and valid2.txt to check the accuracy, with mu=1.0"
   ]
  },
  {
   "cell_type": "code",
   "execution_count": 68,
   "metadata": {},
   "outputs": [
    {
     "name": "stdout",
     "output_type": "stream",
     "text": [
      "\n",
      "** Naive Bayes **\n",
      "\n",
      "Validation accuracy: 77.500\n",
      "\n"
     ]
    }
   ],
   "source": [
    "print(\"\")\n",
    "print(\"** Naive Bayes **\")\n",
    "print(\"\")\n",
    "# By setting mu=1.0\n",
    "mu =1.0\n",
    "\n",
    "train_data = load_data(\"train2.txt\")\n",
    "valid_data = load_data(\"valid2.txt\")\n",
    "counts = count_words(train_data)\n",
    "\n",
    "print(\"Validation accuracy: %.3f\" % compute_accuracy(valid_data, mu, counts))\n",
    "print(\"\")"
   ]
  },
  {
   "cell_type": "markdown",
   "metadata": {},
   "source": [
    "Here the task is the same as above but mu has been changed to 0.000002"
   ]
  },
  {
   "cell_type": "code",
   "execution_count": 67,
   "metadata": {},
   "outputs": [
    {
     "name": "stdout",
     "output_type": "stream",
     "text": [
      "\n",
      "** Naive Bayes **\n",
      "\n",
      "Validation accuracy: 80.200\n",
      "\n"
     ]
    }
   ],
   "source": [
    "print(\"\")\n",
    "print(\"** Naive Bayes **\")\n",
    "print(\"\")\n",
    "#set mu to 0.000002 to check its effect on the prediction accuracy\n",
    "mu = 0.000002\n",
    "\n",
    "train_data = load_data(\"train2.txt\")\n",
    "valid_data = load_data(\"valid2.txt\")\n",
    "counts = count_words(train_data)\n",
    "\n",
    "print(\"Validation accuracy: %.3f\" % compute_accuracy(valid_data, mu, counts))\n",
    "print(\"\")"
   ]
  },
  {
   "cell_type": "markdown",
   "metadata": {},
   "source": [
    "The comments from observation is that once the mu decreases, the accuracy increases. This is related to the formula:     $$p(class_i|\\, word_i)=\\frac{\\mu+ count(word_i,\\,class_i)}{\\mu*V +count(word_i,\\,all\\_classes)}$$"
   ]
  },
  {
   "cell_type": "code",
   "execution_count": null,
   "metadata": {},
   "outputs": [],
   "source": []
  }
 ],
 "metadata": {
  "kernelspec": {
   "display_name": "Python 3",
   "language": "python",
   "name": "python3"
  },
  "language_info": {
   "codemirror_mode": {
    "name": "ipython",
    "version": 3
   },
   "file_extension": ".py",
   "mimetype": "text/x-python",
   "name": "python",
   "nbconvert_exporter": "python",
   "pygments_lexer": "ipython3",
   "version": "3.8.9"
  }
 },
 "nbformat": 4,
 "nbformat_minor": 2
}
