{
 "cells": [
  {
   "cell_type": "markdown",
   "metadata": {},
   "source": [
    "In this second part of the lab, we will implement a language identifier trained on the same data, but using Logistic Regression instead of Naive Bayes."
   ]
  },
  {
   "cell_type": "code",
   "execution_count": 1,
   "metadata": {},
   "outputs": [],
   "source": [
    "import io, sys, math\n",
    "import numpy as np\n",
    "from collections import defaultdict"
   ]
  },
  {
   "cell_type": "code",
   "execution_count": 14,
   "metadata": {},
   "outputs": [],
   "source": [
    "import pandas as pd\n",
    "with open('train1.txt','r') as f:\n",
    "    f.readlines(4)\n",
    "    "
   ]
  },
  {
   "cell_type": "code",
   "execution_count": null,
   "metadata": {},
   "outputs": [],
   "source": []
  },
  {
   "cell_type": "markdown",
   "metadata": {},
   "source": [
    "This function is used to build the dictionary, or vocabulary, which is a mapping from strings (or words) to integers (or indices). This will allow to build vector representations of documents. "
   ]
  },
  {
   "cell_type": "code",
   "execution_count": 6,
   "metadata": {},
   "outputs": [],
   "source": [
    "def build_dict(filename, threshold=1):\n",
    "    fin = io.open(filename, 'r', encoding='utf-8')\n",
    "    word_dict, label_dict = {}, {}\n",
    "    counts = defaultdict(lambda: 0)\n",
    "    for line in fin:\n",
    "        tokens = line.split()\n",
    "        label = tokens[0]\n",
    "\n",
    "        if not label in label_dict:\n",
    "            label_dict[label] = len(label_dict)\n",
    "\n",
    "        for w in tokens[1:]:\n",
    "            counts[w] += 1\n",
    "            \n",
    "    for k, v in counts.items():\n",
    "        if v > threshold:\n",
    "            word_dict[k] = len(word_dict)\n",
    "    return word_dict, label_dict"
   ]
  },
  {
   "cell_type": "markdown",
   "metadata": {},
   "source": [
    "This function is used to load the training dataset, and build vector representations of the training examples. In particular, a document or sentence is represented as a bag of words. Each example correspond to a sparse vector ` x` of dimension `V`, where `V` is the size of the vocabulary. The element `j` of the vector `x` is the number of times the word `j` appears in the document."
   ]
  },
  {
   "cell_type": "code",
   "execution_count": 7,
   "metadata": {},
   "outputs": [],
   "source": [
    "def load_data(filename, word_dict, label_dict):\n",
    "    fin = io.open(filename, 'r', encoding='utf-8')\n",
    "    data = []\n",
    "    dim = len(word_dict)\n",
    "    for line in fin:\n",
    "        tokens = line.split()\n",
    "        label = tokens[0]\n",
    "\n",
    "        yi = label_dict[label]\n",
    "        xi = np.zeros(dim)\n",
    "        for word in tokens[1:]:\n",
    "            if word in word_dict:\n",
    "                wid = word_dict[word]\n",
    "                xi[wid] += 1.0\n",
    "        data.append((yi, xi))\n",
    "    return data"
   ]
  },
  {
   "cell_type": "markdown",
   "metadata": {},
   "source": [
    "First, let's implement the softmax function. Don't forget numerical stability!"
   ]
  },
  {
   "cell_type": "code",
   "execution_count": 183,
   "metadata": {},
   "outputs": [],
   "source": [
    "def softmax(x):\n",
    "    ### FILL CODE\n",
    "    #Due to the stability, substract max(x) in each x as normalizing\n",
    "    num=np.exp(x-x.max())\n",
    "    #Do the same on denominator and compute its sum.\n",
    "    denom=np.sum(np.exp(x-x.max()))\n",
    "    #Return the probability\n",
    "    return num/denom"
   ]
  },
  {
   "cell_type": "markdown",
   "metadata": {},
   "source": [
    "Now, let's implement the main training loop, by using stochastic gradient descent. The function will iterate over the examples of the training set. For each example, we will first compute the loss, before computing the gradient and performing the update."
   ]
  },
  {
   "cell_type": "code",
   "execution_count": 195,
   "metadata": {},
   "outputs": [],
   "source": [
    "def sgd(w, data, niter):\n",
    "    nlabels, dim = w.shape\n",
    "  \n",
    "    \n",
    "    for iter in range(niter): \n",
    "        loss=0\n",
    "        #unpack data x and label y from its list\n",
    "        for y, x in data:\n",
    "            #Initialize True classes to zero as vector.\n",
    "            true_label=np.zeros((nlabels,1))\n",
    "            \n",
    "            # Assign one to the corresponding class,Idenity matrix of size 10 X 10\n",
    "            true_label[y] = 1.0\n",
    "            #reshape x to make it a vector of one column, x of size [total_data X 1]\n",
    "            x=x.reshape(len(x),1)\n",
    "        \n",
    "            #Compute the probability by using softmax in prediction.\n",
    "            pred=softmax(w@x)\n",
    "            \n",
    "            #Update the loss on the case of classification \n",
    "            loss +=-np.log(pred)\n",
    "            \n",
    "            # Compute the gradient of Loss with respect to the weight\n",
    "            loss_grad=-(true_label-pred)@x.T\n",
    "            #Update the weights\n",
    "            w=w-0.09*loss_grad\n",
    "    return w"
   ]
  },
  {
   "cell_type": "markdown",
   "metadata": {},
   "source": [
    "The next function will predict the most probable label corresponding to example `x`, given the trained classifier `w`."
   ]
  },
  {
   "cell_type": "code",
   "execution_count": 196,
   "metadata": {},
   "outputs": [],
   "source": [
    "def predict(w, x):\n",
    "    ## FILL CODE\n",
    "    \n",
    "    # Use softmax to compute the probability for the prediction\n",
    "    y_pred=softmax(w@x)\n",
    "    #Return the index for the class correspond to high probability\n",
    "    return np.argmax(y_pred)"
   ]
  },
  {
   "cell_type": "markdown",
   "metadata": {},
   "source": [
    "Finally, this function will compute the accuracy of a trained classifier `w` on a validation set."
   ]
  },
  {
   "cell_type": "code",
   "execution_count": 197,
   "metadata": {},
   "outputs": [],
   "source": [
    "def compute_accuracy(w, valid_data):\n",
    "\n",
    "    \n",
    "    ## FILL CODE\n",
    "    \n",
    "    #Initialize the correct prediction to zero since no prediction now.\n",
    "    correct_pred = 0\n",
    "    for i in range(len(valid_data)):\n",
    "        #Since the data are tuple in list, I just use index access data\n",
    "        #After unpack y at 0 index and data x at index 1. \n",
    "        x_valid=valid_data[i][1]\n",
    "        y_valid=valid_data[i][0]\n",
    "        # prediction as index of where probability is maximum \n",
    "        index_pred=predict(w,x_valid)\n",
    "        #Check whether the index meet with correct label\n",
    "        if index_pred == y_valid:\n",
    "            #Once condition true, update the correct predictions\n",
    "            correct_pred +=  1\n",
    "    #Compute the accuracy\n",
    "    acc = correct_pred/len(valid_data)\n",
    "        # return accuracy on the percentage by multiplying 100.\n",
    "    return acc*100"
   ]
  },
  {
   "cell_type": "code",
   "execution_count": 198,
   "metadata": {},
   "outputs": [
    {
     "name": "stdout",
     "output_type": "stream",
     "text": [
      "\n",
      "** Logistic Regression **\n",
      "\n",
      "\n",
      "Validation accuracy: 92.100\n",
      "\n"
     ]
    }
   ],
   "source": [
    "print(\"\")\n",
    "print(\"** Logistic Regression **\")\n",
    "print(\"\")\n",
    "\n",
    "word_dict, label_dict = build_dict(\"train1.txt\")\n",
    "train_data = load_data(\"train1.txt\", word_dict, label_dict)\n",
    "valid_data = load_data(\"valid1.txt\", word_dict, label_dict)\n",
    "valid_data = load_data(\"valid1.txt\", word_dict, label_dict)\n",
    "\n",
    "\n",
    "nlabels = len(label_dict)\n",
    "dim = len(word_dict)\n",
    "w = np.zeros([nlabels, dim])\n",
    "w = sgd(w, train_data, 5)\n",
    "print(\"\")\n",
    "print(\"Validation accuracy: %.3f\" % compute_accuracy(w, valid_data))\n",
    "print(\"\")"
   ]
  },
  {
   "cell_type": "markdown",
   "metadata": {},
   "source": [
    "# Observation is that on the learning rate of 0.09, is where the accuracy is better."
   ]
  },
  {
   "cell_type": "code",
   "execution_count": null,
   "metadata": {},
   "outputs": [],
   "source": []
  },
  {
   "cell_type": "code",
   "execution_count": null,
   "metadata": {},
   "outputs": [],
   "source": []
  }
 ],
 "metadata": {
  "kernelspec": {
   "display_name": "Python 3",
   "language": "python",
   "name": "python3"
  },
  "language_info": {
   "codemirror_mode": {
    "name": "ipython",
    "version": 3
   },
   "file_extension": ".py",
   "mimetype": "text/x-python",
   "name": "python",
   "nbconvert_exporter": "python",
   "pygments_lexer": "ipython3",
   "version": "3.8.9"
  }
 },
 "nbformat": 4,
 "nbformat_minor": 2
}
